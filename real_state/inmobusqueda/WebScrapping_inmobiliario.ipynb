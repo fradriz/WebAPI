{
 "cells": [
  {
   "cell_type": "markdown",
   "metadata": {},
   "source": [
    "# Web Scraper - Real State\n",
    "Link: https://realpython.com/beautiful-soup-web-scraper-python/\n",
    "\n",
    "Following the tutorial to get some web info in real-state in Argentina.\n",
    "\n",
    "Webs I might be using to get the information:\n",
    "\n",
    "* https://www.inmobusqueda.com.ar/casa-enbarrio-nunez-en-capital-federal.html\n",
    "* https://www.remax.com.ar/\n",
    "* https://www.topinmobiliario.com/home/index.ashx\n",
    "* https://www.zonaprop.com.ar/\n",
    "* https://www.2clics.com.ar/portales-inmobiliarios/"
   ]
  },
  {
   "cell_type": "code",
   "execution_count": 91,
   "metadata": {},
   "outputs": [],
   "source": [
    "# Cotización del dolar\n",
    "# Oficial site: https://estadisticasbcra.com/api/documentacion\n",
    "# But..\n",
    "#   Need to get a token by subscribing (don't want to do it for now)\n",
    "#   Only oficial information, no dolar blue ..\n",
    "import requests\n",
    "import time\n",
    "\n",
    "DURL = 'https://www.dolarsi.com/api/api.php?type=valoresprincipales'\n",
    "resp = requests.get(DURL)"
   ]
  },
  {
   "cell_type": "code",
   "execution_count": 75,
   "metadata": {},
   "outputs": [
    {
     "name": "stdout",
     "output_type": "stream",
     "text": [
      "compra dolar blue:127,000\n",
      "venta dolar blue:132,000\n",
      "venta dolar blue:132.0\n"
     ]
    }
   ],
   "source": [
    "# import pprint\n",
    "# pprint.PrettyPrinter(indent=4, depth=6).pprint(page.content)\n",
    "# page.headers\n",
    "\n",
    "for r in resp.json():\n",
    "    casa = r['casa']\n",
    "    if 'Blue' in casa['nombre']:\n",
    "        print(f\"compra dolar blue:{casa['compra']}\")\n",
    "        print(f\"venta dolar blue:{casa['venta']}\")\n",
    "        # Taking 'venta' value of Dolar Blue\n",
    "        usd_rate_change = float(casa['venta'].replace(',','.'))\n",
    "        print(f\"venta dolar blue:{usd_rate_change}\")"
   ]
  },
  {
   "cell_type": "code",
   "execution_count": 125,
   "metadata": {},
   "outputs": [
    {
     "name": "stdout",
     "output_type": "stream",
     "text": [
      "Codificacion:ascii\n",
      "{'casa': {'compra': '72,390', 'venta': '77,390', 'agencia': '349', 'nombre': 'Dolar Oficial', 'variacion': '-0,040', 'ventaCero': 'TRUE', 'decimales': '3'}}\n",
      "---\n",
      "{'casa': {'compra': '127,000', 'venta': '132,000', 'agencia': '310', 'nombre': 'Dolar Blue', 'variacion': '-0,750', 'ventaCero': 'TRUE', 'decimales': '3'}}\n",
      "---\n",
      "{'casa': {'compra': 'No Cotiza', 'venta': '0', 'agencia': '311', 'nombre': 'Dolar Soja', 'variacion': '0', 'ventaCero': 'TRUE', 'decimales': '3'}}\n",
      "---\n",
      "{'casa': {'compra': '126,770', 'venta': '127,390', 'agencia': '312', 'nombre': 'Dolar Contado con Liqui', 'variacion': '-2,170', 'ventaCero': 'TRUE', 'decimales': '3'}}\n",
      "---\n",
      "{'casa': {'compra': '123,470', 'venta': '122,700', 'agencia': '313', 'nombre': 'Dolar Bolsa', 'variacion': '-1,460', 'ventaCero': 'TRUE', 'decimales': '3'}}\n",
      "---\n",
      "{'casa': {'compra': '9.852,070', 'venta': '12.350,000', 'agencia': '399', 'nombre': 'Bitcoin', 'variacion': '-0,27', 'ventaCero': 'TRUE', 'decimales': '3'}}\n",
      "---\n",
      "{'casa': {'nombre': 'Dolar turista', 'compra': 'No Cotiza', 'venta': '100,61', 'agencia': '406', 'variacion': '-0,04'}}\n",
      "---\n",
      "{'casa': {'compra': '71,21', 'venta': '76,19', 'agencia': '302', 'nombre': 'Dolar', 'decimales': '3'}}\n",
      "---\n",
      "{'casa': {'nombre': 'Argentina', 'compra': '2.101,00', 'venta': '0,10', 'mejor_compra': 'True', 'mejor_venta': 'False', 'fecha': '05/05/15', 'recorrido': '16:30', 'afluencia': {}, 'agencia': '141', 'observaciones': {}}}\n",
      "---\n"
     ]
    }
   ],
   "source": [
    "#resp.json()[1]\n",
    "\n",
    "print(f\"Codificacion:{resp.apparent_encoding}\")\n",
    "\n",
    "for j in resp.json():\n",
    "    print(j)\n",
    "    print('---')"
   ]
  },
  {
   "cell_type": "code",
   "execution_count": 74,
   "metadata": {},
   "outputs": [
    {
     "data": {
      "text/plain": [
       "float"
      ]
     },
     "execution_count": 74,
     "metadata": {},
     "output_type": "execute_result"
    }
   ],
   "source": [
    "type(usd_rate_change)"
   ]
  },
  {
   "cell_type": "code",
   "execution_count": 17,
   "metadata": {},
   "outputs": [
    {
     "data": {
      "text/plain": [
       "'iso-8859-1'"
      ]
     },
     "execution_count": 17,
     "metadata": {},
     "output_type": "execute_result"
    }
   ],
   "source": [
    "resp.encoding"
   ]
  },
  {
   "cell_type": "code",
   "execution_count": 19,
   "metadata": {},
   "outputs": [
    {
     "data": {
      "text/plain": [
       "{'Date': 'Sun, 09 Aug 2020 13:51:44 GMT', 'Server': 'Apache', 'X-Powered-By': 'PHP/5.6.39', 'Content-Encoding': 'gzip', 'Vary': 'Accept-Encoding', 'Set-Cookie': 'usinr=2358967-b597eeed653f6ed94ae25a88acd64031e24630c3; expires=Mon, 10-Aug-2020 13:51:44 GMT; Max-Age=86400; path=/; domain=.inmobusqueda.com.ar, referer=deleted; expires=Thu, 01-Jan-1970 00:00:01 GMT; Max-Age=0; path=/; domain=.inmobusqueda.com.ar, pagina=rnuevos.casa-alquiler-enbarrio-nunez-en-capital-federal.html; expires=Mon, 10-Aug-2020 13:51:44 GMT; Max-Age=86400; path=/; domain=.inmobusqueda.com.ar, frase=-; expires=Mon, 10-Aug-2020 13:51:44 GMT; Max-Age=86400; path=/; domain=.inmobusqueda.com.ar, visita=5b0558f1b804e33ab2769c4ea13406f7; expires=Mon, 10-Aug-2020 13:51:44 GMT; Max-Age=86400; path=/; domain=.inmobusqueda.com.ar, testcookie=5b0558f1b804e33ab2769c4ea13406f7; expires=Mon, 10-Aug-2020 13:51:44 GMT; Max-Age=86400; path=/; domain=.inmobusqueda.com.ar', 'Connection': 'close', 'Transfer-Encoding': 'chunked', 'Content-Type': 'text/html; charset=iso-8859-1'}"
      ]
     },
     "execution_count": 19,
     "metadata": {},
     "output_type": "execute_result"
    }
   ],
   "source": [
    "resp.headers"
   ]
  },
  {
   "cell_type": "markdown",
   "metadata": {},
   "source": [
    "## Using request + Beatuful Soup\n",
    "\n",
    "### inmobusqueda\n",
    "\n",
    "First step is to go the page with the desired filters and open it with `Developer Tools` from the browser.\n",
    "\n",
    "Another way is to use wget from the CLI: `wget https://www.inmobusqueda.com.ar/casa-alquiler-enbarrio-nunez-en-capital-federal.html`. This will save the data in an html file so we can search there for some key words."
   ]
  },
  {
   "cell_type": "code",
   "execution_count": 89,
   "metadata": {},
   "outputs": [],
   "source": [
    "# import requests\n",
    "from bs4 import BeautifulSoup\n",
    "\n",
    "# Only for rent in Nuñez (2)\n",
    "# URL = 'https://www.inmobusqueda.com.ar/casa-alquiler-enbarrio-nunez-en-capital-federal.html'\n",
    "# Not filtering for rent or sell (10)\n",
    "# URL = 'https://www.inmobusqueda.com.ar/casa-enbarrio-nunez-en-capital-federal.html'\n",
    "# Not filtering by house type (appartament, house, PH) (131)\n",
    "# Need to detect and handle pagination - This web shows 15 out of 131 adds...\n",
    "# URL = 'https://www.inmobusqueda.com.ar/propiedades-enbarrio-nunez-en-capital-federal.html'\n",
    "URL = 'https://www.inmobusqueda.com.ar/departamento-enbarrio-tribunales-en-capital-federal-90000-200000-dolares.html'\n",
    "# URL = 'https://www.inmobusqueda.com.ar/propiedades-enbarrio-nunez-en-capital-federal-pagina-2.html'\n",
    "page = requests.get(URL)\n",
    "soup = BeautifulSoup(page.content, 'html.parser')"
   ]
  },
  {
   "cell_type": "code",
   "execution_count": 84,
   "metadata": {
    "scrolled": true
   },
   "outputs": [
    {
     "data": {
      "text/plain": [
       "17074596"
      ]
     },
     "execution_count": 84,
     "metadata": {},
     "output_type": "execute_result"
    }
   ],
   "source": [
    "# soup.find(id='contenidoPropiedad251764') #.prettify()\n",
    "a = '120.0000'\n",
    "int(float(a))\n",
    "\n",
    "129353*132"
   ]
  },
  {
   "cell_type": "code",
   "execution_count": 15,
   "metadata": {},
   "outputs": [],
   "source": [
    "# Buscando en el Developer Tool de Chrome veo que esta clase me interesa\n",
    "web_elems = soup.find_all(class_='letra2 cajaPremiumResultados ResultadoCaja')\n",
    "# web_elems = soup.find_all(class_='derecha2019')    "
   ]
  },
  {
   "cell_type": "code",
   "execution_count": 100,
   "metadata": {
    "scrolled": false
   },
   "outputs": [
    {
     "name": "stdout",
     "output_type": "stream",
     "text": [
      "('address', 'offer_type', 'house_type', 'area', 'room_num', 'price_u$d', 'price_$', 'u$d_rate_change', 'source', 'description', 'last_update', 'add_id', 'time_stamp')\n",
      "_._._._._._._._._._._._._._._.\n",
      "('tucuman al 1500  ', 'Venta', 'Departamento', '61.00', 2, 129000.0, 17028000, 132.0, 'https://www.inmobusqueda.com.ar/departamento-enbarrio-tribunales-en-capital-federal-90000-200000-dolares.html', 'Sup. Total 61m22 grandes ambientesque han sido convertidos en 3 ambientes.VENTA DIRECTA, el propietario no necesita comprar otra propiedad.Ubicado a 2 cuad...', '07-08-2020', 'IB-264149', '2020-08-17 21:31:16')\n",
      "______________________________\n",
      "('viamonte al 1300  ', 'Venta', 'Departamento', '47.00', 1, 130000.0, 17160000, 132.0, 'https://www.inmobusqueda.com.ar/departamento-enbarrio-tribunales-en-capital-federal-90000-200000-dolares.html', 'ALQUILER DEPARTAMENTO 1 AMBIENTE TRIBUNALES.Unidad de 47m2 al contrafrente, se encuentra ubicada en el corazón de Tribunales, a metros de Av. Urugua...', '07-08-2020', 'IB-254021', '2020-08-17 21:31:16')\n",
      "______________________________\n",
      "('Montevideo al 200  ', 'Venta', 'Departamento', '77.00', 3, 150000.0, 19800000, 132.0, 'https://www.inmobusqueda.com.ar/departamento-enbarrio-tribunales-en-capital-federal-90000-200000-dolares.html', 'Venta de Departamento 3 AMBIENTES en Tribunales, Capital FederalEXCELENTE DEPARTAMENTO EN ELEGANTE EDIFICIO NEOCLÁSICO, AL FRENTE, CON HERMOSAS CARP...', '07-08-2020', 'IB-244331', '2020-08-17 21:31:16')\n",
      "______________________________\n",
      "('tucuman al 1500  ', 'Venta', 'Departamento', '67.00', 3, 165000.0, 21780000, 132.0, 'https://www.inmobusqueda.com.ar/departamento-enbarrio-tribunales-en-capital-federal-90000-200000-dolares.html', '\"APTO PROFESIONAL\" departamento de 3 ambientes ubicado a 2 cuadras Av. Cordoba, Av Corrientes, Subtes D y B y Tribunales. El departamento esta ubicado al c...', '07-08-2020', 'IB-240833', '2020-08-17 21:31:16')\n",
      "______________________________\n",
      "Total adds:4\n"
     ]
    }
   ],
   "source": [
    "count = 0\n",
    "source = URL\n",
    "header = ('address', 'offer_type', 'house_type', 'area', 'room_num', 'price_u$d', 'price_$', \n",
    "          'u$d_rate_change', 'source', 'description', 'last_update', 'add_id', 'time_stamp' )\n",
    "print(header)\n",
    "print('_.'*15)\n",
    "\n",
    "dt_format = \"%Y-%m-%d %H:%M:%S\"\n",
    "time_stamp = time.strftime(dt_format, time.gmtime(time.time()))\n",
    "\n",
    "for elem in web_elems:\n",
    "    # Each elem is a new BeautifulSoup object.\n",
    "    # You can use the same methods on it as you did before.\n",
    "    ficha = elem.find('div', class_='resultadoTipo').find('a').text.split(\" en \")\n",
    "    address = ficha[0]\n",
    "    offer_type = ficha[1].strip() if len(ficha) > 1 else None\n",
    "    # ----\n",
    "    gral_desc = elem.find('div', class_='resultadoLocalidad').find('div').text\n",
    "    house_type = gral_desc.split()[0]\n",
    "    # ----\n",
    "    features = elem.find('div', class_='resultadopublica').text.strip()\n",
    "    ff = features.split()\n",
    "    last_update = ff[-1]\n",
    "    add_id = ff[-2]\n",
    "    area = ff[ff.index('mts')-1]\n",
    "    aux_garage_index = ff.index('Garage') if 'Garage' in ff else None\n",
    "    garage = ff[aux_garage_index+1] if aux_garage_index else None\n",
    "    \n",
    "    if 'Monoamb' in ff:\n",
    "        room_num = 1\n",
    "    else:\n",
    "        aux_amb_ii = ff.index('Dorm')\n",
    "        if aux_amb_ii:\n",
    "            room_num = int(ff[aux_amb_ii-1]) + 1\n",
    "        else:\n",
    "            room_num = None  \n",
    "    # ----\n",
    "    location_elem = elem.find('div', class_='resultadoPrecio')\n",
    "    desc = elem.find('div', class_='resultadoDescripcion')\n",
    "\n",
    "    if 'u$d' in location_elem.text:\n",
    "        price_usd = float(location_elem.text.replace('u$d','').replace('.','')) \n",
    "        price_s = int(price_usd * usd_rate_change)\n",
    "    \n",
    "    row = (address, offer_type, house_type, area, room_num, price_usd, price_s, usd_rate_change,\n",
    "          source, desc.text, last_update, add_id, time_stamp)\n",
    "    \n",
    "    # print('_'*30)\n",
    "    print(row)\n",
    "    print('_'*30)\n",
    "    count += 1\n",
    "        \n",
    "print(f\"Total adds:{count}\")"
   ]
  },
  {
   "cell_type": "code",
   "execution_count": 96,
   "metadata": {
    "scrolled": false
   },
   "outputs": [
    {
     "name": "stdout",
     "output_type": "stream",
     "text": [
      "('address', 'offer_type', 'house_type', 'area', 'room_num', 'price_u$d', 'price_$', 'u$d_rate_change', 'source', 'description', 'last_update', 'add_id', 'time_stamp')\n",
      "* Address: tucuman al 1500  \n",
      "* Type   : Venta\n",
      "* House Type   : Departamento\n",
      "* Last update   : 07-08-2020\n",
      "* Add id        : IB-264149\n",
      "* Sup           : 61.00 m2\n",
      "* Ambientes     : 2\n",
      "* Garage        : No\n",
      "* Precio en U$D : 129000.0\n",
      "* Descripcion   : Sup. Total 61m22 grandes ambientesque han sido convertidos en 3 ambientes.VENTA DIRECTA, el propietario no necesita comprar otra propiedad.Ubicado a 2 cuad...\n",
      "______________________________\n",
      "('tucuman al 1500  ', 'Venta', 'Departamento', '61.00', 2, 129000.0, 17028000, 132.0, 'https://www.inmobusqueda.com.ar/departamento-enbarrio-tribunales-en-capital-federal-90000-200000-dolares.html', 'Sup. Total 61m22 grandes ambientesque han sido convertidos en 3 ambientes.VENTA DIRECTA, el propietario no necesita comprar otra propiedad.Ubicado a 2 cuad...', '07-08-2020', 'IB-264149', '2020-08-17 21:26:47')\n",
      "______________________________\n",
      "* Address: viamonte al 1300  \n",
      "* Type   : Venta\n",
      "* House Type   : Departamento\n",
      "* Last update   : 07-08-2020\n",
      "* Add id        : IB-254021\n",
      "* Sup           : 47.00 m2\n",
      "* Ambientes     : 1\n",
      "* Garage        : No\n",
      "* Precio en U$D : 130000.0\n",
      "* Descripcion   : ALQUILER DEPARTAMENTO 1 AMBIENTE TRIBUNALES.Unidad de 47m2 al contrafrente, se encuentra ubicada en el corazón de Tribunales, a metros de Av. Urugua...\n",
      "______________________________\n",
      "('viamonte al 1300  ', 'Venta', 'Departamento', '47.00', 1, 130000.0, 17160000, 132.0, 'https://www.inmobusqueda.com.ar/departamento-enbarrio-tribunales-en-capital-federal-90000-200000-dolares.html', 'ALQUILER DEPARTAMENTO 1 AMBIENTE TRIBUNALES.Unidad de 47m2 al contrafrente, se encuentra ubicada en el corazón de Tribunales, a metros de Av. Urugua...', '07-08-2020', 'IB-254021', '2020-08-17 21:26:47')\n",
      "______________________________\n",
      "* Address: Montevideo al 200  \n",
      "* Type   : Venta\n",
      "* House Type   : Departamento\n",
      "* Last update   : 07-08-2020\n",
      "* Add id        : IB-244331\n",
      "* Sup           : 77.00 m2\n",
      "* Ambientes     : 3\n",
      "* Garage        : No\n",
      "* Precio en U$D : 150000.0\n",
      "* Descripcion   : Venta de Departamento 3 AMBIENTES en Tribunales, Capital FederalEXCELENTE DEPARTAMENTO EN ELEGANTE EDIFICIO NEOCLÁSICO, AL FRENTE, CON HERMOSAS CARP...\n",
      "______________________________\n",
      "('Montevideo al 200  ', 'Venta', 'Departamento', '77.00', 3, 150000.0, 19800000, 132.0, 'https://www.inmobusqueda.com.ar/departamento-enbarrio-tribunales-en-capital-federal-90000-200000-dolares.html', 'Venta de Departamento 3 AMBIENTES en Tribunales, Capital FederalEXCELENTE DEPARTAMENTO EN ELEGANTE EDIFICIO NEOCLÁSICO, AL FRENTE, CON HERMOSAS CARP...', '07-08-2020', 'IB-244331', '2020-08-17 21:26:47')\n",
      "______________________________\n",
      "* Address: tucuman al 1500  \n",
      "* Type   : Venta\n",
      "* House Type   : Departamento\n",
      "* Last update   : 07-08-2020\n",
      "* Add id        : IB-240833\n",
      "* Sup           : 67.00 m2\n",
      "* Ambientes     : 3\n",
      "* Garage        : No\n",
      "* Precio en U$D : 165000.0\n",
      "* Descripcion   : \"APTO PROFESIONAL\" departamento de 3 ambientes ubicado a 2 cuadras Av. Cordoba, Av Corrientes, Subtes D y B y Tribunales. El departamento esta ubicado al c...\n",
      "______________________________\n",
      "('tucuman al 1500  ', 'Venta', 'Departamento', '67.00', 3, 165000.0, 21780000, 132.0, 'https://www.inmobusqueda.com.ar/departamento-enbarrio-tribunales-en-capital-federal-90000-200000-dolares.html', '\"APTO PROFESIONAL\" departamento de 3 ambientes ubicado a 2 cuadras Av. Cordoba, Av Corrientes, Subtes D y B y Tribunales. El departamento esta ubicado al c...', '07-08-2020', 'IB-240833', '2020-08-17 21:26:47')\n",
      "______________________________\n",
      "Total adds:4\n"
     ]
    }
   ],
   "source": [
    "count = 0\n",
    "source = URL\n",
    "header = ('address', 'offer_type', 'house_type', 'area', 'room_num', 'price_u$d', 'price_$', \n",
    "          'u$d_rate_change', 'source', 'description', 'last_update', 'add_id', 'time_stamp' )\n",
    "print(header)\n",
    "\n",
    "dt_format = \"%Y-%m-%d %H:%M:%S\"\n",
    "time_stamp = time.strftime(dt_format, time.gmtime(time.time()))\n",
    "\n",
    "for elem in web_elems:\n",
    "    # Each elem is a new BeautifulSoup object.\n",
    "    # You can use the same methods on it as you did before.\n",
    "    ficha = elem.find('div', class_='resultadoTipo').find('a').text.split(\" en \")\n",
    "    address = ficha[0]\n",
    "    offer_type = ficha[1].strip() if len(ficha) > 1 else None\n",
    "    # ----\n",
    "    gral_desc = elem.find('div', class_='resultadoLocalidad').find('div').text\n",
    "    house_type = gral_desc.split()[0]\n",
    "    # ----\n",
    "    features = elem.find('div', class_='resultadopublica').text.strip()\n",
    "    ff = features.split()\n",
    "    last_update = ff[-1]\n",
    "    add_id = ff[-2]\n",
    "    area = ff[ff.index('mts')-1]\n",
    "    aux_garage_index = ff.index('Garage') if 'Garage' in ff else None\n",
    "    garage = ff[aux_garage_index+1] if aux_garage_index else None\n",
    "    \n",
    "    if 'Monoamb' in ff:\n",
    "        room_num = 1\n",
    "    else:\n",
    "        aux_amb_ii = ff.index('Dorm')\n",
    "        if aux_amb_ii:\n",
    "            room_num = int(ff[aux_amb_ii-1]) + 1\n",
    "        else:\n",
    "            room_num = None\n",
    "            \n",
    "    # ----\n",
    "    location_elem = elem.find('div', class_='resultadoPrecio')\n",
    "    desc = elem.find('div', class_='resultadoDescripcion')\n",
    "    #if None in (ficha, company_elem, location_elem, desc):\n",
    "    #    continue\n",
    "    # print(top)\n",
    "    # print(f\"FICHA:{ficha}\")\n",
    "    print(f\"* Address: {address}\")\n",
    "    print(f\"* Type   : {offer_type}\")\n",
    "    # print(gral_desc)\n",
    "    print(f\"* House Type   : {house_type}\")\n",
    "    # print(\".\"*20)\n",
    "    # print(features)\n",
    "    # print(ff)\n",
    "    # print(\"LENGHT:\" + str(len(ff)))\n",
    "    print(f\"* Last update   : {last_update}\")\n",
    "    print(f\"* Add id        : {add_id}\")\n",
    "    print(f\"* Sup           : {area} m2\")\n",
    "    print(f\"* Ambientes     : {room_num}\")\n",
    "    print(f\"* Garage        : {garage}\")\n",
    "    # print(\".\"*20)\n",
    "    price_usd = float(location_elem.text.replace('u$d','').replace('.','')) if 'u$d' in location_elem.text else None\n",
    "    price_s = int(price_usd * usd_rate_change)\n",
    "    # print(f\"* Precio        : {location_elem.text}\")\n",
    "    print(f\"* Precio en U$D : {price_usd}\")\n",
    "    print(f\"* Descripcion   : {desc.text}\")    \n",
    "    #break\n",
    "    count += 1\n",
    "    \n",
    "    row = (address, offer_type, house_type, area, room_num, price_usd, price_s, usd_rate_change,\n",
    "          source, desc.text, last_update, add_id, time_stamp)\n",
    "    \n",
    "    print('_'*30)\n",
    "    print(row)\n",
    "    print('_'*30)\n",
    "    \n",
    "    # print(\"-\"*60)\n",
    "    \n",
    "print(f\"Total adds:{count}\")\n",
    "\n",
    "#header = ('address', 'offer_type', 'house_type', 'area', 'room_num', 'price_u$d', 'price_$', \n",
    "#          'u$d_rate_change', 'source', 'description', 'last_update', 'add_id', 'time_stamp' )"
   ]
  },
  {
   "cell_type": "markdown",
   "metadata": {},
   "source": [
    "Now we can put all the information together in a csv to further process"
   ]
  }
 ],
 "metadata": {
  "kernelspec": {
   "display_name": "Python 3",
   "language": "python",
   "name": "python3"
  },
  "language_info": {
   "codemirror_mode": {
    "name": "ipython",
    "version": 3
   },
   "file_extension": ".py",
   "mimetype": "text/x-python",
   "name": "python",
   "nbconvert_exporter": "python",
   "pygments_lexer": "ipython3",
   "version": "3.7.5"
  }
 },
 "nbformat": 4,
 "nbformat_minor": 2
}
